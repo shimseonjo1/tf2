{
 "cells": [
  {
   "cell_type": "markdown",
   "id": "db51719a-43b0-4c78-9829-6669ad159d3a",
   "metadata": {},
   "source": [
    "# 마크다운 설명"
   ]
  },
  {
   "cell_type": "markdown",
   "id": "39c806d0-1f27-477c-b2e4-cda7a32aff89",
   "metadata": {},
   "source": [
    "![Kayak](http://www.tcpschool.com/lectures/img_deeplearning_09_ann.png)\n",
    "\n",
    "```python\n",
    "s = \"Python syntax highlighting\"\n",
    "print s\n",
    "```\n",
    "\n",
    "한글작업을 합니다.  \n",
    "한글작업을 합니다."
   ]
  },
  {
   "cell_type": "code",
   "execution_count": null,
   "id": "a7ba1615-60e3-4cc1-8c3e-92a83cf89677",
   "metadata": {},
   "outputs": [],
   "source": [
    "print('hi')\n",
    "print('hello')"
   ]
  },
  {
   "cell_type": "code",
   "execution_count": null,
   "id": "1cd85686-9c26-478c-8cad-cef7a4a89961",
   "metadata": {},
   "outputs": [],
   "source": [
    "print('hi')\n",
    "print('hello')"
   ]
  }
 ],
 "metadata": {
  "kernelspec": {
   "display_name": "Python 3 (ipykernel)",
   "language": "python",
   "name": "python3"
  },
  "language_info": {
   "codemirror_mode": {
    "name": "ipython",
    "version": 3
   },
   "file_extension": ".py",
   "mimetype": "text/x-python",
   "name": "python",
   "nbconvert_exporter": "python",
   "pygments_lexer": "ipython3",
   "version": "3.9.12"
  }
 },
 "nbformat": 4,
 "nbformat_minor": 5
}
