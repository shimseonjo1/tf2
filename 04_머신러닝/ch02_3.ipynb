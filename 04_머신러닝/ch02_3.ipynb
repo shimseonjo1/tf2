{
 "cells": [
  {
   "cell_type": "code",
   "execution_count": 1,
   "id": "515c56c4-8b27-4c3e-9217-5d20a4a95a31",
   "metadata": {},
   "outputs": [],
   "source": [
    "from  sklearn.preprocessing import LabelEncoder"
   ]
  },
  {
   "cell_type": "code",
   "execution_count": 2,
   "id": "d16059d4-a308-47a1-99e6-062926b19f26",
   "metadata": {},
   "outputs": [],
   "source": [
    "item = ['TV','냉장고','전자레인지','컴퓨터','선풍기','선풍기','믹서','믹서']"
   ]
  },
  {
   "cell_type": "code",
   "execution_count": 3,
   "id": "25e7c13a-7276-43e1-aa9d-440309cc84f5",
   "metadata": {},
   "outputs": [
    {
     "data": {
      "text/plain": [
       "array([0, 1, 4, 5, 3, 3, 2, 2])"
      ]
     },
     "execution_count": 3,
     "metadata": {},
     "output_type": "execute_result"
    }
   ],
   "source": [
    "encoder = LabelEncoder()\n",
    "encoder.fit(item)\n",
    "label = encoder.transform(item)\n",
    "label"
   ]
  },
  {
   "cell_type": "code",
   "execution_count": 4,
   "id": "097861cc-2ba0-4495-b4d4-6cff85003319",
   "metadata": {},
   "outputs": [
    {
     "data": {
      "text/plain": [
       "array(['TV', '냉장고', '믹서', '선풍기', '전자레인지', '컴퓨터'], dtype='<U5')"
      ]
     },
     "execution_count": 4,
     "metadata": {},
     "output_type": "execute_result"
    }
   ],
   "source": [
    "encoder.classes_"
   ]
  },
  {
   "cell_type": "code",
   "execution_count": 5,
   "id": "6a54e2b7-579c-46d1-90d2-4febf7909875",
   "metadata": {},
   "outputs": [
    {
     "data": {
      "text/plain": [
       "array(['TV', '냉장고', '전자레인지', '컴퓨터', '선풍기', '선풍기', '믹서', '믹서'], dtype='<U5')"
      ]
     },
     "execution_count": 5,
     "metadata": {},
     "output_type": "execute_result"
    }
   ],
   "source": [
    "encoder.inverse_transform(label)"
   ]
  },
  {
   "cell_type": "code",
   "execution_count": 17,
   "id": "7820ae5b-0518-4d22-8b26-a69f5ce37062",
   "metadata": {},
   "outputs": [],
   "source": [
    "from sklearn.preprocessing import OneHotEncoder\n",
    "import numpy as np\n",
    "import pandas as pd"
   ]
  },
  {
   "cell_type": "code",
   "execution_count": 15,
   "id": "52d571d1-34a8-4c9a-b196-b7fe0c3e4c70",
   "metadata": {},
   "outputs": [],
   "source": [
    "item = [['TV'],['냉장고'],['전자레인지'],['컴퓨터'],['선풍기'],['선풍기'],['믹서'],['믹서']]\n",
    "# item = np.array(item).reshape(-1,1)"
   ]
  },
  {
   "cell_type": "code",
   "execution_count": 16,
   "id": "3fb12954-106d-4f1f-bb35-2e02b0e892dd",
   "metadata": {
    "collapsed": true,
    "jupyter": {
     "outputs_hidden": true
    },
    "tags": []
   },
   "outputs": [
    {
     "data": {
      "text/plain": [
       "array([[1., 0., 0., 0., 0., 0.],\n",
       "       [0., 1., 0., 0., 0., 0.],\n",
       "       [0., 0., 0., 0., 1., 0.],\n",
       "       [0., 0., 0., 0., 0., 1.],\n",
       "       [0., 0., 0., 1., 0., 0.],\n",
       "       [0., 0., 0., 1., 0., 0.],\n",
       "       [0., 0., 1., 0., 0., 0.],\n",
       "       [0., 0., 1., 0., 0., 0.]])"
      ]
     },
     "execution_count": 16,
     "metadata": {},
     "output_type": "execute_result"
    }
   ],
   "source": [
    "oh_encoder = OneHotEncoder()\n",
    "oh_encoder.fit(item)\n",
    "oh_label = oh_encoder.transform(item)\n",
    "oh_label.toarray()"
   ]
  },
  {
   "cell_type": "code",
   "execution_count": 18,
   "id": "c26540ab-f3f9-4397-981f-42ae5465f147",
   "metadata": {},
   "outputs": [],
   "source": [
    "df = pd.DataFrame({'item': ['TV','냉장고','전자레인지','컴퓨터','선풍기','선풍기','믹서','믹서']})"
   ]
  },
  {
   "cell_type": "code",
   "execution_count": 19,
   "id": "6c54d9b8-b27a-4ff9-a32d-86d4a9622069",
   "metadata": {},
   "outputs": [
    {
     "data": {
      "text/html": [
       "<div>\n",
       "<style scoped>\n",
       "    .dataframe tbody tr th:only-of-type {\n",
       "        vertical-align: middle;\n",
       "    }\n",
       "\n",
       "    .dataframe tbody tr th {\n",
       "        vertical-align: top;\n",
       "    }\n",
       "\n",
       "    .dataframe thead th {\n",
       "        text-align: right;\n",
       "    }\n",
       "</style>\n",
       "<table border=\"1\" class=\"dataframe\">\n",
       "  <thead>\n",
       "    <tr style=\"text-align: right;\">\n",
       "      <th></th>\n",
       "      <th>item_TV</th>\n",
       "      <th>item_냉장고</th>\n",
       "      <th>item_믹서</th>\n",
       "      <th>item_선풍기</th>\n",
       "      <th>item_전자레인지</th>\n",
       "      <th>item_컴퓨터</th>\n",
       "    </tr>\n",
       "  </thead>\n",
       "  <tbody>\n",
       "    <tr>\n",
       "      <th>0</th>\n",
       "      <td>1</td>\n",
       "      <td>0</td>\n",
       "      <td>0</td>\n",
       "      <td>0</td>\n",
       "      <td>0</td>\n",
       "      <td>0</td>\n",
       "    </tr>\n",
       "    <tr>\n",
       "      <th>1</th>\n",
       "      <td>0</td>\n",
       "      <td>1</td>\n",
       "      <td>0</td>\n",
       "      <td>0</td>\n",
       "      <td>0</td>\n",
       "      <td>0</td>\n",
       "    </tr>\n",
       "    <tr>\n",
       "      <th>2</th>\n",
       "      <td>0</td>\n",
       "      <td>0</td>\n",
       "      <td>0</td>\n",
       "      <td>0</td>\n",
       "      <td>1</td>\n",
       "      <td>0</td>\n",
       "    </tr>\n",
       "    <tr>\n",
       "      <th>3</th>\n",
       "      <td>0</td>\n",
       "      <td>0</td>\n",
       "      <td>0</td>\n",
       "      <td>0</td>\n",
       "      <td>0</td>\n",
       "      <td>1</td>\n",
       "    </tr>\n",
       "    <tr>\n",
       "      <th>4</th>\n",
       "      <td>0</td>\n",
       "      <td>0</td>\n",
       "      <td>0</td>\n",
       "      <td>1</td>\n",
       "      <td>0</td>\n",
       "      <td>0</td>\n",
       "    </tr>\n",
       "    <tr>\n",
       "      <th>5</th>\n",
       "      <td>0</td>\n",
       "      <td>0</td>\n",
       "      <td>0</td>\n",
       "      <td>1</td>\n",
       "      <td>0</td>\n",
       "      <td>0</td>\n",
       "    </tr>\n",
       "    <tr>\n",
       "      <th>6</th>\n",
       "      <td>0</td>\n",
       "      <td>0</td>\n",
       "      <td>1</td>\n",
       "      <td>0</td>\n",
       "      <td>0</td>\n",
       "      <td>0</td>\n",
       "    </tr>\n",
       "    <tr>\n",
       "      <th>7</th>\n",
       "      <td>0</td>\n",
       "      <td>0</td>\n",
       "      <td>1</td>\n",
       "      <td>0</td>\n",
       "      <td>0</td>\n",
       "      <td>0</td>\n",
       "    </tr>\n",
       "  </tbody>\n",
       "</table>\n",
       "</div>"
      ],
      "text/plain": [
       "   item_TV  item_냉장고  item_믹서  item_선풍기  item_전자레인지  item_컴퓨터\n",
       "0        1         0        0         0           0         0\n",
       "1        0         1        0         0           0         0\n",
       "2        0         0        0         0           1         0\n",
       "3        0         0        0         0           0         1\n",
       "4        0         0        0         1           0         0\n",
       "5        0         0        0         1           0         0\n",
       "6        0         0        1         0           0         0\n",
       "7        0         0        1         0           0         0"
      ]
     },
     "execution_count": 19,
     "metadata": {},
     "output_type": "execute_result"
    }
   ],
   "source": [
    "pd.get_dummies(df)"
   ]
  },
  {
   "cell_type": "code",
   "execution_count": 21,
   "id": "08be15be-bd48-49d8-89de-c47ab59584a3",
   "metadata": {},
   "outputs": [],
   "source": [
    "from sklearn.datasets import load_iris\n",
    "import pandas as pd"
   ]
  },
  {
   "cell_type": "code",
   "execution_count": 22,
   "id": "f4cc9156-0713-4a71-ae70-f22ba8c3d783",
   "metadata": {},
   "outputs": [],
   "source": [
    "iris = load_iris()"
   ]
  },
  {
   "cell_type": "code",
   "execution_count": 23,
   "id": "958580be-fd10-4ffa-89fb-797c060f6050",
   "metadata": {},
   "outputs": [],
   "source": [
    "iris_df = pd.DataFrame(data=iris.data,columns=iris.feature_names)"
   ]
  },
  {
   "cell_type": "code",
   "execution_count": 24,
   "id": "3ddddcf7-e27a-4d3c-ae51-11caca128a50",
   "metadata": {
    "collapsed": true,
    "jupyter": {
     "outputs_hidden": true
    },
    "tags": []
   },
   "outputs": [
    {
     "data": {
      "text/plain": [
       "sepal length (cm)    5.843333\n",
       "sepal width (cm)     3.057333\n",
       "petal length (cm)    3.758000\n",
       "petal width (cm)     1.199333\n",
       "dtype: float64"
      ]
     },
     "execution_count": 24,
     "metadata": {},
     "output_type": "execute_result"
    }
   ],
   "source": [
    "iris_df.mean()"
   ]
  },
  {
   "cell_type": "code",
   "execution_count": 25,
   "id": "ec66f601-f529-4cf4-b723-3d022450c04c",
   "metadata": {
    "collapsed": true,
    "jupyter": {
     "outputs_hidden": true
    },
    "tags": []
   },
   "outputs": [
    {
     "data": {
      "text/plain": [
       "sepal length (cm)    0.685694\n",
       "sepal width (cm)     0.189979\n",
       "petal length (cm)    3.116278\n",
       "petal width (cm)     0.581006\n",
       "dtype: float64"
      ]
     },
     "execution_count": 25,
     "metadata": {},
     "output_type": "execute_result"
    }
   ],
   "source": [
    "iris_df.var()"
   ]
  },
  {
   "cell_type": "code",
   "execution_count": 26,
   "id": "f51690c6-857a-430c-8fef-cc34897f62c7",
   "metadata": {},
   "outputs": [],
   "source": [
    "from sklearn.preprocessing import StandardScaler"
   ]
  },
  {
   "cell_type": "code",
   "execution_count": 27,
   "id": "b8cc3b47-6a39-4656-957c-549b2e89fc60",
   "metadata": {},
   "outputs": [],
   "source": [
    "scaler = StandardScaler()\n",
    "iris_scaled = scaler.fit_transform(iris_df)"
   ]
  },
  {
   "cell_type": "code",
   "execution_count": 30,
   "id": "aac10298-f30c-4fb6-a3ea-a814e14a4242",
   "metadata": {},
   "outputs": [],
   "source": [
    "iris_df_scaled = pd.DataFrame(iris_scaled,columns=iris.feature_names)"
   ]
  },
  {
   "cell_type": "code",
   "execution_count": 31,
   "id": "f05bc004-d390-4d35-980b-04e7d6590dd8",
   "metadata": {
    "collapsed": true,
    "jupyter": {
     "outputs_hidden": true
    },
    "tags": []
   },
   "outputs": [
    {
     "data": {
      "text/plain": [
       "sepal length (cm)   -1.690315e-15\n",
       "sepal width (cm)    -1.842970e-15\n",
       "petal length (cm)   -1.698641e-15\n",
       "petal width (cm)    -1.409243e-15\n",
       "dtype: float64"
      ]
     },
     "execution_count": 31,
     "metadata": {},
     "output_type": "execute_result"
    }
   ],
   "source": [
    "iris_df_scaled.mean()"
   ]
  },
  {
   "cell_type": "code",
   "execution_count": 32,
   "id": "d20a1a7b-354b-4bb6-a163-b41c7f3fc240",
   "metadata": {
    "collapsed": true,
    "jupyter": {
     "outputs_hidden": true
    },
    "tags": []
   },
   "outputs": [
    {
     "data": {
      "text/plain": [
       "sepal length (cm)    1.006711\n",
       "sepal width (cm)     1.006711\n",
       "petal length (cm)    1.006711\n",
       "petal width (cm)     1.006711\n",
       "dtype: float64"
      ]
     },
     "execution_count": 32,
     "metadata": {},
     "output_type": "execute_result"
    }
   ],
   "source": [
    "iris_df_scaled.var()"
   ]
  },
  {
   "cell_type": "code",
   "execution_count": 33,
   "id": "29d6d528-dd16-40cd-bdaf-fba142a647a1",
   "metadata": {
    "collapsed": true,
    "jupyter": {
     "outputs_hidden": true
    },
    "tags": []
   },
   "outputs": [
    {
     "data": {
      "text/plain": [
       "sepal length (cm)    4.3\n",
       "sepal width (cm)     2.0\n",
       "petal length (cm)    1.0\n",
       "petal width (cm)     0.1\n",
       "dtype: float64"
      ]
     },
     "execution_count": 33,
     "metadata": {},
     "output_type": "execute_result"
    }
   ],
   "source": [
    "iris_df.min()"
   ]
  },
  {
   "cell_type": "code",
   "execution_count": 34,
   "id": "9412d146-76bc-4fd0-8b28-8d338fb2336d",
   "metadata": {
    "collapsed": true,
    "jupyter": {
     "outputs_hidden": true
    },
    "tags": []
   },
   "outputs": [
    {
     "data": {
      "text/plain": [
       "sepal length (cm)    7.9\n",
       "sepal width (cm)     4.4\n",
       "petal length (cm)    6.9\n",
       "petal width (cm)     2.5\n",
       "dtype: float64"
      ]
     },
     "execution_count": 34,
     "metadata": {},
     "output_type": "execute_result"
    }
   ],
   "source": [
    "iris_df.max()"
   ]
  },
  {
   "cell_type": "code",
   "execution_count": 35,
   "id": "40aef5a0-e3f0-4690-991c-bd4ceda6d5f4",
   "metadata": {},
   "outputs": [],
   "source": [
    "from sklearn.preprocessing import MinMaxScaler"
   ]
  },
  {
   "cell_type": "code",
   "execution_count": 36,
   "id": "9b2c9296-a150-4ffd-b2fd-fbfcada5a521",
   "metadata": {},
   "outputs": [],
   "source": [
    "scaler = MinMaxScaler()\n",
    "iris_scaled = scaler.fit_transform(iris_df)\n",
    "iris_df_scaled = pd.DataFrame(iris_scaled,columns=iris.feature_names)"
   ]
  },
  {
   "cell_type": "code",
   "execution_count": 37,
   "id": "942b105a-8b2e-4ac3-a8de-d33b95450a76",
   "metadata": {
    "collapsed": true,
    "jupyter": {
     "outputs_hidden": true
    },
    "tags": []
   },
   "outputs": [
    {
     "data": {
      "text/plain": [
       "sepal length (cm)    0.0\n",
       "sepal width (cm)     0.0\n",
       "petal length (cm)    0.0\n",
       "petal width (cm)     0.0\n",
       "dtype: float64"
      ]
     },
     "execution_count": 37,
     "metadata": {},
     "output_type": "execute_result"
    }
   ],
   "source": [
    "iris_df_scaled.min()"
   ]
  },
  {
   "cell_type": "code",
   "execution_count": 38,
   "id": "52648d90-20ec-45a6-ba9f-650bea2125a9",
   "metadata": {
    "collapsed": true,
    "jupyter": {
     "outputs_hidden": true
    },
    "tags": []
   },
   "outputs": [
    {
     "data": {
      "text/plain": [
       "sepal length (cm)    1.0\n",
       "sepal width (cm)     1.0\n",
       "petal length (cm)    1.0\n",
       "petal width (cm)     1.0\n",
       "dtype: float64"
      ]
     },
     "execution_count": 38,
     "metadata": {},
     "output_type": "execute_result"
    }
   ],
   "source": [
    "iris_df_scaled.max()"
   ]
  },
  {
   "cell_type": "code",
   "execution_count": 39,
   "id": "46fe5ea0-1025-4304-ae08-190665a71fd5",
   "metadata": {
    "collapsed": true,
    "jupyter": {
     "outputs_hidden": true
    },
    "tags": []
   },
   "outputs": [
    {
     "data": {
      "text/plain": [
       "array([[ 0],\n",
       "       [ 1],\n",
       "       [ 2],\n",
       "       [ 3],\n",
       "       [ 4],\n",
       "       [ 5],\n",
       "       [ 6],\n",
       "       [ 7],\n",
       "       [ 8],\n",
       "       [ 9],\n",
       "       [10]])"
      ]
     },
     "execution_count": 39,
     "metadata": {},
     "output_type": "execute_result"
    }
   ],
   "source": [
    "train_array = np.arange(0,11).reshape(-1,1)\n",
    "train_array"
   ]
  },
  {
   "cell_type": "code",
   "execution_count": 40,
   "id": "6a7ca6d5-dc79-459d-a1e0-1ad34a1ecd4a",
   "metadata": {
    "collapsed": true,
    "jupyter": {
     "outputs_hidden": true
    },
    "tags": []
   },
   "outputs": [
    {
     "data": {
      "text/plain": [
       "array([[0],\n",
       "       [1],\n",
       "       [2],\n",
       "       [3],\n",
       "       [4],\n",
       "       [5]])"
      ]
     },
     "execution_count": 40,
     "metadata": {},
     "output_type": "execute_result"
    }
   ],
   "source": [
    "test_array = np.arange(0,6).reshape(-1,1)\n",
    "test_array"
   ]
  },
  {
   "cell_type": "code",
   "execution_count": 44,
   "id": "51d37b55-a3ff-4d2b-8c36-bc6051350e7c",
   "metadata": {},
   "outputs": [],
   "source": [
    "scaler = MinMaxScaler()\n",
    "train_scaled = scaler.fit_transform(train_array)"
   ]
  },
  {
   "cell_type": "code",
   "execution_count": 42,
   "id": "00106a08-935f-4de1-a009-8d6389e5523e",
   "metadata": {
    "collapsed": true,
    "jupyter": {
     "outputs_hidden": true
    },
    "tags": []
   },
   "outputs": [
    {
     "data": {
      "text/plain": [
       "array([[0. ],\n",
       "       [0.1],\n",
       "       [0.2],\n",
       "       [0.3],\n",
       "       [0.4],\n",
       "       [0.5],\n",
       "       [0.6],\n",
       "       [0.7],\n",
       "       [0.8],\n",
       "       [0.9],\n",
       "       [1. ]])"
      ]
     },
     "execution_count": 42,
     "metadata": {},
     "output_type": "execute_result"
    }
   ],
   "source": [
    "train_scaled"
   ]
  },
  {
   "cell_type": "code",
   "execution_count": 45,
   "id": "1f8d68a2-e0c7-4602-849c-699dae23b7ad",
   "metadata": {},
   "outputs": [
    {
     "data": {
      "text/plain": [
       "array([[0. ],\n",
       "       [0.1],\n",
       "       [0.2],\n",
       "       [0.3],\n",
       "       [0.4],\n",
       "       [0.5]])"
      ]
     },
     "execution_count": 45,
     "metadata": {},
     "output_type": "execute_result"
    }
   ],
   "source": [
    "scaler.transform(test_array)"
   ]
  },
  {
   "cell_type": "code",
   "execution_count": null,
   "id": "c8d672bb-a841-448d-9fa8-ec7059a54f70",
   "metadata": {},
   "outputs": [],
   "source": []
  }
 ],
 "metadata": {
  "kernelspec": {
   "display_name": "Python 3 (ipykernel)",
   "language": "python",
   "name": "python3"
  },
  "language_info": {
   "codemirror_mode": {
    "name": "ipython",
    "version": 3
   },
   "file_extension": ".py",
   "mimetype": "text/x-python",
   "name": "python",
   "nbconvert_exporter": "python",
   "pygments_lexer": "ipython3",
   "version": "3.9.12"
  }
 },
 "nbformat": 4,
 "nbformat_minor": 5
}
