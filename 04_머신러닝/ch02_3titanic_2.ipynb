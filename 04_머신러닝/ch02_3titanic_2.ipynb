{
 "cells": [
  {
   "cell_type": "code",
   "execution_count": 8,
   "id": "a964a383-de2c-4672-8810-b6d41c794720",
   "metadata": {},
   "outputs": [],
   "source": [
    "def fillna(df):\n",
    "    df['Age'].fillna(df['Age'].mean(),inplace=True)\n",
    "    df['Cabin'].fillna('N',inplace=True)\n",
    "    df['Embarked'].fillna('N',inplace=True)\n",
    "    df['Fare'].fillna(0,inplace=True)\n",
    "    return df\n",
    "def drop_features(df):\n",
    "    df.drop(columns=['PassengerId','Name','Ticket'],inplace=True)\n",
    "    return df\n",
    "def format_features(df):\n",
    "    from sklearn.preprocessing import LabelEncoder\n",
    "    df['Cabin'] = df['Cabin'].str[0]\n",
    "    features = ['Cabin','Sex','Embarked']\n",
    "    for feature in features:\n",
    "        le = LabelEncoder()\n",
    "        df[feature] = le.fit_transform(df[feature])\n",
    "        print(le.classes_)\n",
    "    return df \n",
    "def transform_features():\n",
    "    import pandas as pd\n",
    "    df = pd.read_csv('titanic_train.csv')\n",
    "    df = fillna(df)\n",
    "    df = drop_features(df)\n",
    "    df = format_features(df)\n",
    "    return df   "
   ]
  },
  {
   "cell_type": "code",
   "execution_count": 9,
   "id": "4b0b04f4-e158-42dc-85e6-a79bafee4fa0",
   "metadata": {},
   "outputs": [
    {
     "name": "stdout",
     "output_type": "stream",
     "text": [
      "['A' 'B' 'C' 'D' 'E' 'F' 'G' 'N' 'T']\n",
      "['female' 'male']\n",
      "['C' 'N' 'Q' 'S']\n"
     ]
    }
   ],
   "source": [
    "titanic_df = transform_features()"
   ]
  },
  {
   "cell_type": "code",
   "execution_count": 10,
   "id": "89206edc-cd74-4307-a0dc-924822973d6a",
   "metadata": {},
   "outputs": [
    {
     "data": {
      "text/html": [
       "<div>\n",
       "<style scoped>\n",
       "    .dataframe tbody tr th:only-of-type {\n",
       "        vertical-align: middle;\n",
       "    }\n",
       "\n",
       "    .dataframe tbody tr th {\n",
       "        vertical-align: top;\n",
       "    }\n",
       "\n",
       "    .dataframe thead th {\n",
       "        text-align: right;\n",
       "    }\n",
       "</style>\n",
       "<table border=\"1\" class=\"dataframe\">\n",
       "  <thead>\n",
       "    <tr style=\"text-align: right;\">\n",
       "      <th></th>\n",
       "      <th>Survived</th>\n",
       "      <th>Pclass</th>\n",
       "      <th>Sex</th>\n",
       "      <th>Age</th>\n",
       "      <th>SibSp</th>\n",
       "      <th>Parch</th>\n",
       "      <th>Fare</th>\n",
       "      <th>Cabin</th>\n",
       "      <th>Embarked</th>\n",
       "    </tr>\n",
       "  </thead>\n",
       "  <tbody>\n",
       "    <tr>\n",
       "      <th>0</th>\n",
       "      <td>0</td>\n",
       "      <td>3</td>\n",
       "      <td>1</td>\n",
       "      <td>22.0</td>\n",
       "      <td>1</td>\n",
       "      <td>0</td>\n",
       "      <td>7.25</td>\n",
       "      <td>7</td>\n",
       "      <td>3</td>\n",
       "    </tr>\n",
       "  </tbody>\n",
       "</table>\n",
       "</div>"
      ],
      "text/plain": [
       "   Survived  Pclass  Sex   Age  SibSp  Parch  Fare  Cabin  Embarked\n",
       "0         0       3    1  22.0      1      0  7.25      7         3"
      ]
     },
     "execution_count": 10,
     "metadata": {},
     "output_type": "execute_result"
    }
   ],
   "source": [
    "titanic_df.head(1)"
   ]
  },
  {
   "cell_type": "code",
   "execution_count": 11,
   "id": "ff01ba8b-3a52-4092-90d6-70c78b4659d4",
   "metadata": {},
   "outputs": [],
   "source": [
    "from sklearn.model_selection import train_test_split"
   ]
  },
  {
   "cell_type": "code",
   "execution_count": 12,
   "id": "2bd97043-ac54-4d48-8432-9854f2edf63b",
   "metadata": {},
   "outputs": [],
   "source": [
    "X_df = titanic_df.drop(columns=['Survived'])\n",
    "y_df = titanic_df['Survived']"
   ]
  },
  {
   "cell_type": "code",
   "execution_count": 14,
   "id": "a8339f82-5f61-47bd-b2aa-90b111891768",
   "metadata": {},
   "outputs": [],
   "source": [
    "X_train,X_test,y_train,y_test = train_test_split(X_df,y_df,test_size=0.2,random_state=11)"
   ]
  },
  {
   "cell_type": "code",
   "execution_count": 15,
   "id": "2fa07ad0-072d-40a0-b1b9-48a4fcdba5a5",
   "metadata": {},
   "outputs": [],
   "source": [
    "from sklearn.tree import DecisionTreeClassifier\n",
    "from sklearn.ensemble import RandomForestClassifier\n",
    "from sklearn.linear_model import LogisticRegression\n",
    "from sklearn.metrics import accuracy_score"
   ]
  },
  {
   "cell_type": "code",
   "execution_count": 16,
   "id": "bb8f0adb-6dfe-4edd-b01d-dd81f86ce84f",
   "metadata": {},
   "outputs": [],
   "source": [
    "dt_clf = DecisionTreeClassifier(random_state=11)\n",
    "rf_clf = RandomForestClassifier(random_state=11)\n",
    "lr_clf = LogisticRegression(solver='liblinear')"
   ]
  },
  {
   "cell_type": "code",
   "execution_count": 21,
   "id": "2a9738f9-54e2-4373-ad98-33a163be0b7c",
   "metadata": {},
   "outputs": [
    {
     "name": "stdout",
     "output_type": "stream",
     "text": [
      "DecisionTreeClassifier 정확도:0.7877\n"
     ]
    }
   ],
   "source": [
    "dt_clf.fit(X_train,y_train)\n",
    "dt_pred = dt_clf.predict(X_test)\n",
    "print(f'DecisionTreeClassifier 정확도:{accuracy_score(y_test,dt_pred):.4f}')"
   ]
  },
  {
   "cell_type": "code",
   "execution_count": 22,
   "id": "106d6eb9-6a67-4a01-bbb3-3143f241346d",
   "metadata": {},
   "outputs": [
    {
     "name": "stdout",
     "output_type": "stream",
     "text": [
      "RandomForestClassifier 정확도:0.8547\n"
     ]
    }
   ],
   "source": [
    "rf_clf.fit(X_train,y_train)\n",
    "rf_pred = rf_clf.predict(X_test)\n",
    "print(f'RandomForestClassifier 정확도:{accuracy_score(y_test,rf_pred):.4f}')"
   ]
  },
  {
   "cell_type": "code",
   "execution_count": 23,
   "id": "93dc6b53-96de-4b5a-b9b3-6e0a0f6edb6e",
   "metadata": {},
   "outputs": [
    {
     "name": "stdout",
     "output_type": "stream",
     "text": [
      "LogisticRegression 정확도:0.8659\n"
     ]
    }
   ],
   "source": [
    "lr_clf.fit(X_train,y_train)\n",
    "lr_pred = lr_clf.predict(X_test)\n",
    "print(f'LogisticRegression 정확도:{accuracy_score(y_test,lr_pred):.4f}')"
   ]
  },
  {
   "cell_type": "code",
   "execution_count": 24,
   "id": "74ff10bb-e525-4a4d-9c1f-f88d6f93e05e",
   "metadata": {},
   "outputs": [],
   "source": [
    "from sklearn.model_selection import KFold"
   ]
  },
  {
   "cell_type": "code",
   "execution_count": 29,
   "id": "b1be7b15-034a-482c-a6ce-a8f12aaf2f40",
   "metadata": {},
   "outputs": [],
   "source": [
    "def exec_kfold(clf,fold=5):\n",
    "    import numpy as np\n",
    "    kfold = KFold(n_splits=fold)\n",
    "    scores=[]\n",
    "    for iter_count,(train_index,test_index) in enumerate(kfold.split(X_df)):\n",
    "        X_train,X_test = X_df.values[train_index],X_df.values[test_index]\n",
    "        y_train,y_test = y_df.values[train_index],y_df.values[test_index]\n",
    "        clf.fit(X_train,y_train)\n",
    "        pred = clf.predict(X_test)\n",
    "        accuracy = accuracy_score(y_test,pred)\n",
    "        scores.append(accuracy)\n",
    "        print(f'교차검증 {iter_count} 정확도 : {accuracy}')\n",
    "    print(f'평균정확도:{np.mean(scores)}')        "
   ]
  },
  {
   "cell_type": "code",
   "execution_count": 30,
   "id": "9cf1da16-0927-4460-902b-afc90707d8d4",
   "metadata": {},
   "outputs": [
    {
     "name": "stdout",
     "output_type": "stream",
     "text": [
      "교차검증 0 정확도 : 0.7541899441340782\n",
      "교차검증 1 정확도 : 0.7808988764044944\n",
      "교차검증 2 정확도 : 0.7865168539325843\n",
      "교차검증 3 정확도 : 0.7696629213483146\n",
      "교차검증 4 정확도 : 0.8202247191011236\n",
      "평균정확도:0.782298662984119\n"
     ]
    }
   ],
   "source": [
    "exec_kfold(dt_clf) # DecisionTreeClassifier 정확도:0.7877"
   ]
  },
  {
   "cell_type": "code",
   "execution_count": 31,
   "id": "8364c72b-aab7-4979-bc10-37c5a9856626",
   "metadata": {},
   "outputs": [
    {
     "name": "stdout",
     "output_type": "stream",
     "text": [
      "교차검증 0 정확도 : 0.7932960893854749\n",
      "교차검증 1 정확도 : 0.8089887640449438\n",
      "교차검증 2 정확도 : 0.8370786516853933\n",
      "교차검증 3 정확도 : 0.7752808988764045\n",
      "교차검증 4 정확도 : 0.8595505617977528\n",
      "평균정확도:0.8148389931579938\n"
     ]
    }
   ],
   "source": [
    "exec_kfold(rf_clf) #RandomForestClassifier 정확도:0.8547"
   ]
  },
  {
   "cell_type": "code",
   "execution_count": 32,
   "id": "20cac195-413e-489b-a64d-7046654b789a",
   "metadata": {},
   "outputs": [
    {
     "name": "stdout",
     "output_type": "stream",
     "text": [
      "교차검증 0 정확도 : 0.7932960893854749\n",
      "교차검증 1 정확도 : 0.7921348314606742\n",
      "교차검증 2 정확도 : 0.7752808988764045\n",
      "교차검증 3 정확도 : 0.7471910112359551\n",
      "교차검증 4 정확도 : 0.8426966292134831\n",
      "평균정확도:0.7901198920343984\n"
     ]
    }
   ],
   "source": [
    "exec_kfold(lr_clf) #LogisticRegression 정확도:0.8659"
   ]
  },
  {
   "cell_type": "code",
   "execution_count": 36,
   "id": "45384815-d6ec-422e-94cc-0274e02dd3ec",
   "metadata": {},
   "outputs": [],
   "source": [
    "from sklearn.model_selection import cross_val_score\n",
    "import numpy as np"
   ]
  },
  {
   "cell_type": "code",
   "execution_count": 37,
   "id": "d252d919-22f3-4784-b156-54f56fc83f6b",
   "metadata": {},
   "outputs": [
    {
     "name": "stdout",
     "output_type": "stream",
     "text": [
      "[0.74301676 0.7752809  0.79213483 0.78651685 0.84269663] 평균:0.7879291946519366\n"
     ]
    }
   ],
   "source": [
    "score = cross_val_score(dt_clf,X_df,y_df,cv=5)\n",
    "print(f'{score} 평균:{np.mean(score)}')\n",
    "# 교차검증 0 정확도 : 0.7541899441340782\n",
    "# 교차검증 1 정확도 : 0.7808988764044944\n",
    "# 교차검증 2 정확도 : 0.7865168539325843\n",
    "# 교차검증 3 정확도 : 0.7696629213483146\n",
    "# 교차검증 4 정확도 : 0.8202247191011236\n",
    "# 평균정확도:0.782298662984119"
   ]
  },
  {
   "cell_type": "code",
   "execution_count": 38,
   "id": "685935a8-fc0b-4fe1-8cbd-e721512dd37d",
   "metadata": {},
   "outputs": [
    {
     "name": "stdout",
     "output_type": "stream",
     "text": [
      "[0.79329609 0.79775281 0.84831461 0.76404494 0.86516854] 평균:0.8137153976523758\n"
     ]
    }
   ],
   "source": [
    "score = cross_val_score(rf_clf,X_df,y_df,cv=5)\n",
    "print(f'{score} 평균:{np.mean(score)}')\n",
    "# 교차검증 0 정확도 : 0.7932960893854749\n",
    "# 교차검증 1 정확도 : 0.8089887640449438\n",
    "# 교차검증 2 정확도 : 0.8370786516853933\n",
    "# 교차검증 3 정확도 : 0.7752808988764045\n",
    "# 교차검증 4 정확도 : 0.8595505617977528\n",
    "# 평균정확도:0.8148389931579938"
   ]
  },
  {
   "cell_type": "code",
   "execution_count": 39,
   "id": "4825fefb-7ebc-4a5d-bc9b-a4831520f2cf",
   "metadata": {},
   "outputs": [
    {
     "name": "stdout",
     "output_type": "stream",
     "text": [
      "[0.7877095  0.79213483 0.7752809  0.76404494 0.82022472] 평균:0.7878789780930262\n"
     ]
    }
   ],
   "source": [
    "score = cross_val_score(lr_clf,X_df,y_df,cv=5)\n",
    "print(f'{score} 평균:{np.mean(score)}')\n",
    "# 교차검증 0 정확도 : 0.7932960893854749\n",
    "# 교차검증 1 정확도 : 0.7921348314606742\n",
    "# 교차검증 2 정확도 : 0.7752808988764045\n",
    "# 교차검증 3 정확도 : 0.7471910112359551\n",
    "# 교차검증 4 정확도 : 0.8426966292134831\n",
    "# 평균정확도:0.7901198920343984"
   ]
  },
  {
   "cell_type": "code",
   "execution_count": 40,
   "id": "f952d1dd-0847-4042-a83c-9d73fa0efd84",
   "metadata": {},
   "outputs": [],
   "source": [
    "from sklearn.model_selection import GridSearchCV"
   ]
  },
  {
   "cell_type": "code",
   "execution_count": 41,
   "id": "df931ca6-516d-443b-b9a7-78b26d487a24",
   "metadata": {},
   "outputs": [],
   "source": [
    "parameter = {\n",
    "    'max_depth':[2,3,5,10],\n",
    "    'min_samples_split':[2,3,5],\n",
    "    'min_samples_leaf':[1,5,8]\n",
    "}"
   ]
  },
  {
   "cell_type": "code",
   "execution_count": 42,
   "id": "c0423982-e930-4ce6-b05b-e8051d7584ac",
   "metadata": {},
   "outputs": [
    {
     "data": {
      "text/plain": [
       "GridSearchCV(cv=5, estimator=DecisionTreeClassifier(random_state=11),\n",
       "             param_grid={'max_depth': [2, 3, 5, 10],\n",
       "                         'min_samples_leaf': [1, 5, 8],\n",
       "                         'min_samples_split': [2, 3, 5]},\n",
       "             scoring='accuracy')"
      ]
     },
     "execution_count": 42,
     "metadata": {},
     "output_type": "execute_result"
    }
   ],
   "source": [
    "grid_clf = GridSearchCV(dt_clf,param_grid=parameter,scoring='accuracy',cv=5)\n",
    "grid_clf.fit(X_train,y_train)"
   ]
  },
  {
   "cell_type": "code",
   "execution_count": 43,
   "id": "544f1760-f7c9-4d48-b1d0-aebc92b5bb7d",
   "metadata": {},
   "outputs": [
    {
     "data": {
      "text/plain": [
       "{'max_depth': 3, 'min_samples_leaf': 5, 'min_samples_split': 2}"
      ]
     },
     "execution_count": 43,
     "metadata": {},
     "output_type": "execute_result"
    }
   ],
   "source": [
    "grid_clf.best_params_"
   ]
  },
  {
   "cell_type": "code",
   "execution_count": 44,
   "id": "bb5e1ced-4957-4c38-aeae-d0fa1c080f14",
   "metadata": {},
   "outputs": [
    {
     "data": {
      "text/plain": [
       "0.7991825076332119"
      ]
     },
     "execution_count": 44,
     "metadata": {},
     "output_type": "execute_result"
    }
   ],
   "source": [
    "grid_clf.best_score_"
   ]
  },
  {
   "cell_type": "code",
   "execution_count": 45,
   "id": "4090ef7d-216e-483f-ab70-a7caec6cd56b",
   "metadata": {},
   "outputs": [],
   "source": [
    "pred = grid_clf.best_estimator_.predict(X_test)"
   ]
  },
  {
   "cell_type": "code",
   "execution_count": 46,
   "id": "e154c5a8-5521-4503-acba-1c0e3c017f1a",
   "metadata": {},
   "outputs": [
    {
     "data": {
      "text/plain": [
       "0.8715083798882681"
      ]
     },
     "execution_count": 46,
     "metadata": {},
     "output_type": "execute_result"
    }
   ],
   "source": [
    "accuracy_score(y_test,pred)"
   ]
  },
  {
   "cell_type": "code",
   "execution_count": 47,
   "id": "ab6d57d2-6ef4-410f-8734-ccd09aed1ddf",
   "metadata": {},
   "outputs": [
    {
     "data": {
      "text/plain": [
       "GridSearchCV(cv=5, estimator=RandomForestClassifier(random_state=11),\n",
       "             param_grid={'max_depth': [2, 3, 5, 10],\n",
       "                         'min_samples_leaf': [1, 5, 8],\n",
       "                         'min_samples_split': [2, 3, 5]},\n",
       "             scoring='accuracy')"
      ]
     },
     "execution_count": 47,
     "metadata": {},
     "output_type": "execute_result"
    }
   ],
   "source": [
    "grid_clf = GridSearchCV(rf_clf,param_grid=parameter,scoring='accuracy',cv=5)\n",
    "grid_clf.fit(X_train,y_train)"
   ]
  },
  {
   "cell_type": "code",
   "execution_count": 48,
   "id": "bb8c72f1-7cef-4e82-8b2b-102e324a55d8",
   "metadata": {},
   "outputs": [
    {
     "data": {
      "text/plain": [
       "{'max_depth': 5, 'min_samples_leaf': 1, 'min_samples_split': 2}"
      ]
     },
     "execution_count": 48,
     "metadata": {},
     "output_type": "execute_result"
    }
   ],
   "source": [
    "grid_clf.best_params_"
   ]
  },
  {
   "cell_type": "code",
   "execution_count": 49,
   "id": "368d0501-5c2f-4a1b-9f38-dfeb9536010e",
   "metadata": {},
   "outputs": [
    {
     "data": {
      "text/plain": [
       "0.8145966709346991"
      ]
     },
     "execution_count": 49,
     "metadata": {},
     "output_type": "execute_result"
    }
   ],
   "source": [
    "grid_clf.best_score_"
   ]
  },
  {
   "cell_type": "code",
   "execution_count": 50,
   "id": "4951105f-929d-4a3a-9052-daa68335b5c3",
   "metadata": {},
   "outputs": [
    {
     "data": {
      "text/plain": [
       "0.88268156424581"
      ]
     },
     "execution_count": 50,
     "metadata": {},
     "output_type": "execute_result"
    }
   ],
   "source": [
    "pred = grid_clf.best_estimator_.predict(X_test)\n",
    "accuracy_score(y_test,pred)"
   ]
  },
  {
   "cell_type": "code",
   "execution_count": null,
   "id": "07af0af2-6111-4c59-8ad2-7a0d3475e5ea",
   "metadata": {},
   "outputs": [],
   "source": []
  }
 ],
 "metadata": {
  "kernelspec": {
   "display_name": "Python 3 (ipykernel)",
   "language": "python",
   "name": "python3"
  },
  "language_info": {
   "codemirror_mode": {
    "name": "ipython",
    "version": 3
   },
   "file_extension": ".py",
   "mimetype": "text/x-python",
   "name": "python",
   "nbconvert_exporter": "python",
   "pygments_lexer": "ipython3",
   "version": "3.9.12"
  }
 },
 "nbformat": 4,
 "nbformat_minor": 5
}
