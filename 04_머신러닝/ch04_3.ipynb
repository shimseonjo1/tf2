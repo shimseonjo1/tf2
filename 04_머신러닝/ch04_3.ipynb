{
 "cells": [
  {
   "cell_type": "code",
   "execution_count": 6,
   "id": "d869afc6-a52d-474f-bae3-1750191180a6",
   "metadata": {},
   "outputs": [],
   "source": [
    "def get_new_feature_name_df(old):\n",
    "    import pandas as pd\n",
    "    dup = pd.DataFrame(data=old.groupby('column_name').cumcount(),columns=['dup_cnt'])\n",
    "    dup = dup.reset_index()\n",
    "    new = pd.merge(old.reset_index(),dup,how='outer')\n",
    "    new['column_name'] = new[['column_name','dup_cnt']].apply(lambda x:x[0]+'_'+str(x[1]) if x[1]>0 else x[0] , axis=1)\n",
    "    new.drop(columns=['index'],inplace=True)\n",
    "    return new"
   ]
  },
  {
   "cell_type": "code",
   "execution_count": 7,
   "id": "ad98b478-6a1b-4794-872b-f25f8e614732",
   "metadata": {},
   "outputs": [],
   "source": [
    "def get_human_dataset():\n",
    "    import pandas as pd\n",
    "    feature_name_df = pd.read_csv('./human_activity/features.txt',\n",
    "                                sep='\\s+',\n",
    "                                header=None,\n",
    "                                names=['column_index','column_name'])\n",
    "    new_name = get_new_feature_name_df(feature_name_df)\n",
    "    feature_name = new_name.iloc[:,1].values.tolist()\n",
    "    X_train = pd.read_csv('./human_activity/train/X_train.txt',sep='\\s+',names=feature_name)\n",
    "    X_test = pd.read_csv('./human_activity/test/X_test.txt',sep='\\s+',names=feature_name)\n",
    "    y_train = pd.read_csv('./human_activity/train/y_train.txt',sep='\\s+',names=['action'])\n",
    "    y_test = pd.read_csv('./human_activity/test/y_test.txt',sep='\\s+',names=['action'])\n",
    "    return X_train,X_test,y_train,y_test"
   ]
  },
  {
   "cell_type": "code",
   "execution_count": 8,
   "id": "de9e752c-07bd-4843-8aa6-595b5c0919fb",
   "metadata": {},
   "outputs": [],
   "source": [
    "X_train,X_test,y_train,y_test = get_human_dataset()"
   ]
  },
  {
   "cell_type": "code",
   "execution_count": 14,
   "id": "553dc76a-a0fe-48c6-b7d6-00e6201976b4",
   "metadata": {},
   "outputs": [],
   "source": [
    "from sklearn.ensemble import RandomForestClassifier\n",
    "from sklearn.metrics import accuracy_score\n",
    "import warnings\n",
    "warnings.filterwarnings('ignore')"
   ]
  },
  {
   "cell_type": "code",
   "execution_count": 11,
   "id": "ef8629d8-677a-4caf-a5b0-87658e104da3",
   "metadata": {
    "tags": []
   },
   "outputs": [
    {
     "name": "stderr",
     "output_type": "stream",
     "text": [
      "C:\\Users\\user\\AppData\\Local\\Temp\\ipykernel_12972\\990638652.py:2: DataConversionWarning: A column-vector y was passed when a 1d array was expected. Please change the shape of y to (n_samples,), for example using ravel().\n",
      "  rf_clf.fit(X_train,y_train)\n"
     ]
    },
    {
     "data": {
      "text/plain": [
       "0.9195792331184255"
      ]
     },
     "execution_count": 11,
     "metadata": {},
     "output_type": "execute_result"
    }
   ],
   "source": [
    "rf_clf = RandomForestClassifier(random_state=0,max_depth=8)\n",
    "rf_clf.fit(X_train,y_train)\n",
    "pred = rf_clf.predict(X_test)\n",
    "accuracy_score(y_test,pred)"
   ]
  },
  {
   "cell_type": "code",
   "execution_count": 12,
   "id": "9937201f-9df4-47f2-b794-7196bb24ab8b",
   "metadata": {},
   "outputs": [],
   "source": [
    "from sklearn.model_selection import GridSearchCV"
   ]
  },
  {
   "cell_type": "code",
   "execution_count": 15,
   "id": "c842aeeb-fb93-4287-8bee-3c9f87ac5a1d",
   "metadata": {},
   "outputs": [
    {
     "name": "stdout",
     "output_type": "stream",
     "text": [
      "{'max_depth': 16, 'min_samples_leaf': 8, 'min_samples_split': 6}\n",
      "0.9178454842219804\n",
      "CPU times: total: 15.5 s\n",
      "Wall time: 31.8 s\n"
     ]
    }
   ],
   "source": [
    "%%time\n",
    "param ={\n",
    "    'max_depth':[8,16,24],\n",
    "    'min_samples_split':[1,6,12],\n",
    "    'min_samples_leaf':[2,8,16]\n",
    "}\n",
    "rf_clf = RandomForestClassifier(n_estimators=100,random_state=0,n_jobs=-1)\n",
    "grid_cv = GridSearchCV(rf_clf,param_grid=param,cv=2,n_jobs=-1)\n",
    "grid_cv.fit(X_train,y_train)\n",
    "print(grid_cv.best_params_)\n",
    "print(grid_cv.best_score_)"
   ]
  },
  {
   "cell_type": "code",
   "execution_count": 16,
   "id": "86fd0bdc-4c37-436c-8f9a-c6a10e95636a",
   "metadata": {},
   "outputs": [
    {
     "data": {
      "text/plain": [
       "0.9222938581608415"
      ]
     },
     "execution_count": 16,
     "metadata": {},
     "output_type": "execute_result"
    }
   ],
   "source": [
    "pred = grid_cv.best_estimator_.predict(X_test)\n",
    "accuracy_score(y_test,pred)"
   ]
  },
  {
   "cell_type": "code",
   "execution_count": 18,
   "id": "92fb05d3-6485-4dad-9cbb-9234b2979f74",
   "metadata": {},
   "outputs": [
    {
     "data": {
      "text/plain": [
       "0.9192399049881235"
      ]
     },
     "execution_count": 18,
     "metadata": {},
     "output_type": "execute_result"
    }
   ],
   "source": [
    "rf_clf = RandomForestClassifier(n_estimators=500,\n",
    "                                random_state=0,\n",
    "                                n_jobs=-1,\n",
    "                                max_depth=16,\n",
    "                                min_samples_leaf=8,\n",
    "                                min_samples_split=6)\n",
    "rf_clf.fit(X_train,y_train)\n",
    "pred = rf_clf.predict(X_test)\n",
    "accuracy_score(y_test,pred)"
   ]
  },
  {
   "cell_type": "code",
   "execution_count": 19,
   "id": "b87203f2-b8bd-420b-9e8d-16b4ee2c9067",
   "metadata": {},
   "outputs": [],
   "source": [
    "from sklearn.ensemble import GradientBoostingClassifier"
   ]
  },
  {
   "cell_type": "code",
   "execution_count": 20,
   "id": "23dc5751-2c4c-47e9-bc8f-5273e1ceb5f6",
   "metadata": {},
   "outputs": [
    {
     "name": "stdout",
     "output_type": "stream",
     "text": [
      "CPU times: total: 9min 51s\n",
      "Wall time: 9min 51s\n"
     ]
    },
    {
     "data": {
      "text/plain": [
       "0.9389209365456397"
      ]
     },
     "execution_count": 20,
     "metadata": {},
     "output_type": "execute_result"
    }
   ],
   "source": [
    "%%time\n",
    "gb_clf = GradientBoostingClassifier(random_state=0)\n",
    "gb_clf.fit(X_train,y_train)\n",
    "pred = gb_clf.predict(X_test)\n",
    "accuracy_score(y_test,pred)"
   ]
  },
  {
   "cell_type": "code",
   "execution_count": null,
   "id": "d0ca78fb-ba34-4bb4-a908-bf40700030b5",
   "metadata": {},
   "outputs": [],
   "source": []
  }
 ],
 "metadata": {
  "kernelspec": {
   "display_name": "Python 3 (ipykernel)",
   "language": "python",
   "name": "python3"
  },
  "language_info": {
   "codemirror_mode": {
    "name": "ipython",
    "version": 3
   },
   "file_extension": ".py",
   "mimetype": "text/x-python",
   "name": "python",
   "nbconvert_exporter": "python",
   "pygments_lexer": "ipython3",
   "version": "3.9.12"
  }
 },
 "nbformat": 4,
 "nbformat_minor": 5
}
